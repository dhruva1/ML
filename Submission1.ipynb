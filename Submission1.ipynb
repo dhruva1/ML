{
 "cells": [
  {
   "cell_type": "markdown",
   "metadata": {},
   "source": [
    "# Groupwork Assignment Submission 2 M5 - Group 4B"
   ]
  },
  {
   "cell_type": "code",
   "execution_count": 18,
   "metadata": {},
   "outputs": [],
   "source": [
    "#Importing the libraries\n",
    "\n",
    "import matplotlib.pyplot as plt\n",
    "import numpy as np\n",
    "import pandas as pd\n",
    "import yfinance as yf\n",
    "from fredapi import Fred"
   ]
  },
  {
   "cell_type": "markdown",
   "metadata": {},
   "source": [
    "# Downloading data"
   ]
  },
  {
   "cell_type": "code",
   "execution_count": 19,
   "metadata": {},
   "outputs": [
    {
     "data": {
      "text/plain": [
       "2019-05-06    2.40\n",
       "2019-05-07    2.40\n",
       "2019-05-08    2.39\n",
       "2019-05-09    2.38\n",
       "2019-05-10    2.38\n",
       "dtype: float64"
      ]
     },
     "execution_count": 19,
     "metadata": {},
     "output_type": "execute_result"
    }
   ],
   "source": [
    "# Download 2 years of price history of a stock.\n",
    "data_frame = yf.download('USDEUR=X', start='2019-05-06', end='2020-05-06', progress=False) # yyyy/mm/dd\n",
    "data_frame.drop(['Open', 'Volume', 'Adj Close'], axis=1, inplace=True)\n",
    "#print(data_frame)\n",
    "\n",
    "#  Effective Federal Funds Rate downloaded from https://fred.stlouisfed.org/series/FEDFUNDS\n",
    "##################################################\n",
    "fred = Fred(api_key='267a686a16fe42c7b7defdc69c762c7c')\n",
    "IRdf = fred.get_series('DFF', '5/6/2019', '5/6/2020') # mm/dd/yyyy\n",
    "\n",
    "IRdiff=IRdf # loading the difference of the Fed funds rate and ECB refinancing rate \n"
   ]
  },
  {
   "cell_type": "markdown",
   "metadata": {},
   "source": [
    "# Explanatory Variables computation"
   ]
  },
  {
   "cell_type": "code",
   "execution_count": 20,
   "metadata": {},
   "outputs": [],
   "source": [
    "def Historical_D_days_trend(data, D):\n",
    "    return ( data/data.shift(D-1, axis=0) )-1\n",
    "\n",
    "def Line_trend(data, w):\n",
    "    return (data['High'].rolling(window=w).max() + data['Low'].rolling(window=w).min())/2\n",
    "\n",
    "def StochasticOsclillator(data):\n",
    "    temp_df = pd.DataFrame(data=data)\n",
    "    temp_df['LowMin'] = data['Low'].rolling(window=14).min()\n",
    "    temp_df['HighMax'] = data['High'].rolling(window=14).max()\n",
    "    return (data['Close']-temp_df['LowMin'])/(temp_df['HighMax']-temp_df['LowMin'])"
   ]
  },
  {
   "cell_type": "code",
   "execution_count": 21,
   "metadata": {
    "scrolled": true
   },
   "outputs": [
    {
     "name": "stderr",
     "output_type": "stream",
     "text": [
      "/Users/dhruv/anaconda3/lib/python3.7/site-packages/pandas/core/frame.py:3940: SettingWithCopyWarning: \n",
      "A value is trying to be set on a copy of a slice from a DataFrame\n",
      "\n",
      "See the caveats in the documentation: http://pandas.pydata.org/pandas-docs/stable/indexing.html#indexing-view-versus-copy\n",
      "  errors=errors)\n"
     ]
    },
    {
     "data": {
      "text/html": [
       "<div>\n",
       "<style scoped>\n",
       "    .dataframe tbody tr th:only-of-type {\n",
       "        vertical-align: middle;\n",
       "    }\n",
       "\n",
       "    .dataframe tbody tr th {\n",
       "        vertical-align: top;\n",
       "    }\n",
       "\n",
       "    .dataframe thead th {\n",
       "        text-align: right;\n",
       "    }\n",
       "</style>\n",
       "<table border=\"1\" class=\"dataframe\">\n",
       "  <thead>\n",
       "    <tr style=\"text-align: right;\">\n",
       "      <th></th>\n",
       "      <th>High</th>\n",
       "      <th>Low</th>\n",
       "      <th>Close</th>\n",
       "      <th>StochasticOsclillator</th>\n",
       "      <th>3-period MA of %K %D</th>\n",
       "      <th>3-period MA of %D</th>\n",
       "      <th>ConvLine</th>\n",
       "      <th>BaseLine</th>\n",
       "      <th>SenkouSpanA</th>\n",
       "      <th>Historical 4-day trend</th>\n",
       "      <th>Historical 8-day trend</th>\n",
       "      <th>Historical 16-day trend</th>\n",
       "      <th>Historical 32-day trend</th>\n",
       "    </tr>\n",
       "    <tr>\n",
       "      <th>Date</th>\n",
       "      <th></th>\n",
       "      <th></th>\n",
       "      <th></th>\n",
       "      <th></th>\n",
       "      <th></th>\n",
       "      <th></th>\n",
       "      <th></th>\n",
       "      <th></th>\n",
       "      <th></th>\n",
       "      <th></th>\n",
       "      <th></th>\n",
       "      <th></th>\n",
       "      <th></th>\n",
       "    </tr>\n",
       "  </thead>\n",
       "  <tbody>\n",
       "    <tr>\n",
       "      <th>2019-06-19</th>\n",
       "      <td>0.89376</td>\n",
       "      <td>0.89110</td>\n",
       "      <td>0.89300</td>\n",
       "      <td>0.672364</td>\n",
       "      <td>0.590422</td>\n",
       "      <td>0.471410</td>\n",
       "      <td>0.887735</td>\n",
       "      <td>0.890665</td>\n",
       "      <td>0.88920</td>\n",
       "      <td>0.007344</td>\n",
       "      <td>0.010890</td>\n",
       "      <td>-0.002458</td>\n",
       "      <td>-0.001107</td>\n",
       "    </tr>\n",
       "    <tr>\n",
       "      <th>2019-06-20</th>\n",
       "      <td>0.89001</td>\n",
       "      <td>0.88377</td>\n",
       "      <td>0.88980</td>\n",
       "      <td>0.585832</td>\n",
       "      <td>0.597055</td>\n",
       "      <td>0.550221</td>\n",
       "      <td>0.887935</td>\n",
       "      <td>0.890665</td>\n",
       "      <td>0.88930</td>\n",
       "      <td>-0.001907</td>\n",
       "      <td>0.007085</td>\n",
       "      <td>-0.008999</td>\n",
       "      <td>-0.003260</td>\n",
       "    </tr>\n",
       "    <tr>\n",
       "      <th>2019-06-21</th>\n",
       "      <td>0.88624</td>\n",
       "      <td>0.88235</td>\n",
       "      <td>0.88530</td>\n",
       "      <td>0.313693</td>\n",
       "      <td>0.523963</td>\n",
       "      <td>0.570480</td>\n",
       "      <td>0.887935</td>\n",
       "      <td>0.890665</td>\n",
       "      <td>0.88930</td>\n",
       "      <td>-0.006286</td>\n",
       "      <td>0.003002</td>\n",
       "      <td>-0.014560</td>\n",
       "      <td>-0.009255</td>\n",
       "    </tr>\n",
       "    <tr>\n",
       "      <th>2019-06-24</th>\n",
       "      <td>0.87921</td>\n",
       "      <td>0.87710</td>\n",
       "      <td>0.87837</td>\n",
       "      <td>0.073966</td>\n",
       "      <td>0.324497</td>\n",
       "      <td>0.481838</td>\n",
       "      <td>0.885685</td>\n",
       "      <td>0.888615</td>\n",
       "      <td>0.88715</td>\n",
       "      <td>-0.016383</td>\n",
       "      <td>-0.007828</td>\n",
       "      <td>-0.018504</td>\n",
       "      <td>-0.016372</td>\n",
       "    </tr>\n",
       "    <tr>\n",
       "      <th>2019-06-25</th>\n",
       "      <td>0.87886</td>\n",
       "      <td>0.87612</td>\n",
       "      <td>0.87717</td>\n",
       "      <td>0.057854</td>\n",
       "      <td>0.148504</td>\n",
       "      <td>0.332322</td>\n",
       "      <td>0.885195</td>\n",
       "      <td>0.888125</td>\n",
       "      <td>0.88666</td>\n",
       "      <td>-0.014194</td>\n",
       "      <td>-0.010513</td>\n",
       "      <td>-0.013507</td>\n",
       "      <td>-0.015632</td>\n",
       "    </tr>\n",
       "    <tr>\n",
       "      <th>2019-06-26</th>\n",
       "      <td>0.88099</td>\n",
       "      <td>0.87800</td>\n",
       "      <td>0.87951</td>\n",
       "      <td>0.186777</td>\n",
       "      <td>0.106199</td>\n",
       "      <td>0.193067</td>\n",
       "      <td>0.885195</td>\n",
       "      <td>0.888125</td>\n",
       "      <td>0.88666</td>\n",
       "      <td>-0.006540</td>\n",
       "      <td>-0.013449</td>\n",
       "      <td>-0.010196</td>\n",
       "      <td>-0.011742</td>\n",
       "    </tr>\n",
       "    <tr>\n",
       "      <th>2019-06-27</th>\n",
       "      <td>0.88118</td>\n",
       "      <td>0.87850</td>\n",
       "      <td>0.87914</td>\n",
       "      <td>0.166394</td>\n",
       "      <td>0.137008</td>\n",
       "      <td>0.130571</td>\n",
       "      <td>0.885195</td>\n",
       "      <td>0.888125</td>\n",
       "      <td>0.88666</td>\n",
       "      <td>0.000877</td>\n",
       "      <td>-0.013200</td>\n",
       "      <td>-0.012812</td>\n",
       "      <td>-0.012502</td>\n",
       "    </tr>\n",
       "  </tbody>\n",
       "</table>\n",
       "</div>"
      ],
      "text/plain": [
       "               High      Low    Close  StochasticOsclillator  \\\n",
       "Date                                                           \n",
       "2019-06-19  0.89376  0.89110  0.89300               0.672364   \n",
       "2019-06-20  0.89001  0.88377  0.88980               0.585832   \n",
       "2019-06-21  0.88624  0.88235  0.88530               0.313693   \n",
       "2019-06-24  0.87921  0.87710  0.87837               0.073966   \n",
       "2019-06-25  0.87886  0.87612  0.87717               0.057854   \n",
       "2019-06-26  0.88099  0.87800  0.87951               0.186777   \n",
       "2019-06-27  0.88118  0.87850  0.87914               0.166394   \n",
       "\n",
       "            3-period MA of %K %D  3-period MA of %D  ConvLine  BaseLine  \\\n",
       "Date                                                                      \n",
       "2019-06-19              0.590422           0.471410  0.887735  0.890665   \n",
       "2019-06-20              0.597055           0.550221  0.887935  0.890665   \n",
       "2019-06-21              0.523963           0.570480  0.887935  0.890665   \n",
       "2019-06-24              0.324497           0.481838  0.885685  0.888615   \n",
       "2019-06-25              0.148504           0.332322  0.885195  0.888125   \n",
       "2019-06-26              0.106199           0.193067  0.885195  0.888125   \n",
       "2019-06-27              0.137008           0.130571  0.885195  0.888125   \n",
       "\n",
       "            SenkouSpanA  Historical 4-day trend  Historical 8-day trend  \\\n",
       "Date                                                                      \n",
       "2019-06-19      0.88920                0.007344                0.010890   \n",
       "2019-06-20      0.88930               -0.001907                0.007085   \n",
       "2019-06-21      0.88930               -0.006286                0.003002   \n",
       "2019-06-24      0.88715               -0.016383               -0.007828   \n",
       "2019-06-25      0.88666               -0.014194               -0.010513   \n",
       "2019-06-26      0.88666               -0.006540               -0.013449   \n",
       "2019-06-27      0.88666                0.000877               -0.013200   \n",
       "\n",
       "            Historical 16-day trend  Historical 32-day trend  \n",
       "Date                                                          \n",
       "2019-06-19                -0.002458                -0.001107  \n",
       "2019-06-20                -0.008999                -0.003260  \n",
       "2019-06-21                -0.014560                -0.009255  \n",
       "2019-06-24                -0.018504                -0.016372  \n",
       "2019-06-25                -0.013507                -0.015632  \n",
       "2019-06-26                -0.010196                -0.011742  \n",
       "2019-06-27                -0.012812                -0.012502  "
      ]
     },
     "execution_count": 21,
     "metadata": {},
     "output_type": "execute_result"
    }
   ],
   "source": [
    "\n",
    "data_frame['StochasticOsclillator'] = StochasticOsclillator(data_frame)\n",
    "\n",
    "data_frame['3-period MA of %K %D'] = data_frame['StochasticOsclillator'].rolling(window=3).mean()\n",
    "data_frame['3-period MA of %D'] = data_frame['3-period MA of %K %D'].rolling(window=3).mean()\n",
    "data_frame['ConvLine'] = Line_trend(data_frame, 9)\n",
    "data_frame['BaseLine'] = Line_trend(data_frame, 26)\n",
    "data_frame['SenkouSpanA'] = (data_frame['BaseLine'] + data_frame['ConvLine'])/2\n",
    "data_frame['Historical 4-day trend'] = Historical_D_days_trend(data_frame['Close'], 4)\n",
    "data_frame['Historical 8-day trend'] = Historical_D_days_trend(data_frame['Close'], 8)\n",
    "data_frame['Historical 16-day trend'] = Historical_D_days_trend(data_frame['Close'], 16)\n",
    "data_frame['Historical 32-day trend'] = Historical_D_days_trend(data_frame['Close'], 32)\n",
    "\n",
    "df = data_frame [31:] \n",
    "df.drop(['LowMin', 'HighMax'], axis=1, inplace=True)\n",
    "\n",
    "df.head(7)"
   ]
  },
  {
   "cell_type": "markdown",
   "metadata": {},
   "source": [
    "# Performing the PCA"
   ]
  },
  {
   "cell_type": "code",
   "execution_count": 22,
   "metadata": {},
   "outputs": [
    {
     "name": "stdout",
     "output_type": "stream",
     "text": [
      "[0.49441181 0.18333965 0.11133997 0.09407832 0.04808811 0.03182073\n",
      " 0.02407789 0.01143838 0.00140516]\n"
     ]
    },
    {
     "data": {
      "text/plain": [
       "[<matplotlib.lines.Line2D at 0x1a20bd3f28>]"
      ]
     },
     "execution_count": 22,
     "metadata": {},
     "output_type": "execute_result"
    },
    {
     "data": {
      "image/png": "[encoded data removed]",
      "text/plain": [
       "<Figure size 432x288 with 1 Axes>"
      ]
     },
     "metadata": {
      "needs_background": "light"
     },
     "output_type": "display_data"
    }
   ],
   "source": [
    "from sklearn.decomposition import PCA\n",
    "from sklearn.preprocessing import StandardScaler\n",
    "\n",
    "pca = PCA(n_components=9)\n",
    "\n",
    "PCAData = pd.DataFrame(list(zip(IRdiff,df['StochasticOsclillator'], df['3-period MA of %K %D'],\n",
    "                                df['3-period MA of %D'], df['SenkouSpanA'],df['Historical 4-day trend'],\n",
    "                                df['Historical 8-day trend'],df['Historical 16-day trend'],\n",
    "                                df['Historical 32-day trend'])))\n",
    "\n",
    "PCAData = StandardScaler().fit_transform(PCAData)\n",
    "\n",
    "pca.fit_transform(PCAData)\n",
    "\n",
    "print(pca.explained_variance_ratio_)\n",
    "plt.plot(range(0, 9), pca.explained_variance_ratio_)"
   ]
  },
  {
   "cell_type": "markdown",
   "metadata": {},
   "source": [
    "# Finding the PCA components responsible for majority of variation in explanatory variables"
   ]
  },
  {
   "cell_type": "code",
   "execution_count": 23,
   "metadata": {},
   "outputs": [
    {
     "name": "stdout",
     "output_type": "stream",
     "text": [
      "[[-0.02  0.43  0.44  0.4   0.09  0.27  0.39  0.37  0.31]\n",
      " [-0.57 -0.13 -0.05  0.05  0.71 -0.24 -0.16  0.08  0.25]\n",
      " [-0.15 -0.05 -0.31 -0.49  0.11  0.71  0.26 -0.05  0.22]\n",
      " [-0.68  0.22  0.16  0.07 -0.21  0.15  0.09 -0.25 -0.56]\n",
      " [-0.01 -0.06 -0.12 -0.1   0.04  0.14 -0.22  0.83 -0.45]\n",
      " [-0.04 -0.39 -0.16  0.02  0.01 -0.32  0.82  0.13 -0.16]]\n"
     ]
    }
   ],
   "source": [
    "pca = PCA(n_components=6)\n",
    "\n",
    "pca.fit_transform(PCAData)\n",
    "\n",
    "print(np.round(pca.components_,2))"
   ]
  },
  {
   "cell_type": "code",
   "execution_count": null,
   "metadata": {},
   "outputs": [],
   "source": []
  }
 ],
 "metadata": {
  "kernelspec": {
   "display_name": "Python 3",
   "language": "python",
   "name": "python3"
  },
  "language_info": {
   "codemirror_mode": {
    "name": "ipython",
    "version": 3
   },
   "file_extension": ".py",
   "mimetype": "text/x-python",
   "name": "python",
   "nbconvert_exporter": "python",
   "pygments_lexer": "ipython3",
   "version": "3.7.3"
  }
 },
 "nbformat": 4,
 "nbformat_minor": 4
}
